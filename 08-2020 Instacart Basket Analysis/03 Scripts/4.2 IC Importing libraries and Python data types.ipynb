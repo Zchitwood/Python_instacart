{
 "cells": [
  {
   "cell_type": "markdown",
   "id": "584fdda2",
   "metadata": {},
   "source": [
    "4.2 IC importaing libarires and Python data types"
   ]
  },
  {
   "cell_type": "code",
   "execution_count": 1,
   "id": "0bab2104",
   "metadata": {},
   "outputs": [],
   "source": [
    "# Import libraries\n",
    "import pandas as pd\n",
    "import numpy as np\n",
    "import os"
   ]
  },
  {
   "cell_type": "markdown",
   "id": "af236878",
   "metadata": {},
   "source": [
    "python data types"
   ]
  },
  {
   "cell_type": "code",
   "execution_count": 2,
   "id": "d23058d2",
   "metadata": {},
   "outputs": [],
   "source": [
    "x = 75"
   ]
  },
  {
   "cell_type": "code",
   "execution_count": 3,
   "id": "8394fd32",
   "metadata": {},
   "outputs": [],
   "source": [
    "y = 25"
   ]
  },
  {
   "cell_type": "code",
   "execution_count": 4,
   "id": "12349daa",
   "metadata": {},
   "outputs": [
    {
     "data": {
      "text/plain": [
       "100"
      ]
     },
     "execution_count": 4,
     "metadata": {},
     "output_type": "execute_result"
    }
   ],
   "source": [
    "x + y"
   ]
  },
  {
   "cell_type": "code",
   "execution_count": 5,
   "id": "b7f4cd7b",
   "metadata": {},
   "outputs": [],
   "source": [
    "z = 15"
   ]
  },
  {
   "cell_type": "code",
   "execution_count": 6,
   "id": "62977794",
   "metadata": {},
   "outputs": [],
   "source": [
    "a = 10"
   ]
  },
  {
   "cell_type": "code",
   "execution_count": 7,
   "id": "5ca3a157",
   "metadata": {},
   "outputs": [
    {
     "data": {
      "text/plain": [
       "75"
      ]
     },
     "execution_count": 7,
     "metadata": {},
     "output_type": "execute_result"
    }
   ],
   "source": [
    "x "
   ]
  },
  {
   "cell_type": "code",
   "execution_count": 8,
   "id": "233da01f",
   "metadata": {},
   "outputs": [
    {
     "data": {
      "text/plain": [
       "100"
      ]
     },
     "execution_count": 8,
     "metadata": {},
     "output_type": "execute_result"
    }
   ],
   "source": [
    "x + z + a"
   ]
  },
  {
   "cell_type": "code",
   "execution_count": 9,
   "id": "0997d34b",
   "metadata": {},
   "outputs": [
    {
     "data": {
      "text/plain": [
       "100"
      ]
     },
     "execution_count": 9,
     "metadata": {},
     "output_type": "execute_result"
    }
   ],
   "source": [
    "y * 4"
   ]
  },
  {
   "cell_type": "code",
   "execution_count": 10,
   "id": "aae9c17b",
   "metadata": {},
   "outputs": [
    {
     "data": {
      "text/plain": [
       "100"
      ]
     },
     "execution_count": 10,
     "metadata": {},
     "output_type": "execute_result"
    }
   ],
   "source": [
    "a+a+a+a+a+a+a+a+a+a"
   ]
  },
  {
   "cell_type": "code",
   "execution_count": 11,
   "id": "428d88b6",
   "metadata": {},
   "outputs": [],
   "source": [
    "ab = 21.5"
   ]
  },
  {
   "cell_type": "code",
   "execution_count": 12,
   "id": "943bdddf",
   "metadata": {},
   "outputs": [],
   "source": [
    "ba = 2.5"
   ]
  },
  {
   "cell_type": "code",
   "execution_count": 13,
   "id": "441f73ff",
   "metadata": {},
   "outputs": [
    {
     "data": {
      "text/plain": [
       "8.6"
      ]
     },
     "execution_count": 13,
     "metadata": {},
     "output_type": "execute_result"
    }
   ],
   "source": [
    "ab/ba"
   ]
  },
  {
   "cell_type": "code",
   "execution_count": 21,
   "id": "99c200ee",
   "metadata": {},
   "outputs": [],
   "source": [
    "b = 'hello '"
   ]
  },
  {
   "cell_type": "code",
   "execution_count": 22,
   "id": "630e4b9a",
   "metadata": {},
   "outputs": [],
   "source": [
    "c = 'stephen '"
   ]
  },
  {
   "cell_type": "code",
   "execution_count": 23,
   "id": "70dfaa1d",
   "metadata": {},
   "outputs": [],
   "source": [
    "d = 'how '"
   ]
  },
  {
   "cell_type": "code",
   "execution_count": 24,
   "id": "14c2bcf9",
   "metadata": {},
   "outputs": [],
   "source": [
    "e = 'are you?'"
   ]
  },
  {
   "cell_type": "code",
   "execution_count": 26,
   "id": "5964821c",
   "metadata": {},
   "outputs": [
    {
     "data": {
      "text/plain": [
       "'hello stephen how are you?'"
      ]
     },
     "execution_count": 26,
     "metadata": {},
     "output_type": "execute_result"
    }
   ],
   "source": [
    "b+c+d+e"
   ]
  },
  {
   "cell_type": "code",
   "execution_count": 25,
   "id": "56763803",
   "metadata": {},
   "outputs": [
    {
     "data": {
      "text/plain": [
       "'hello stephen how are you?'"
      ]
     },
     "execution_count": 25,
     "metadata": {},
     "output_type": "execute_result"
    }
   ],
   "source": [
    "b + c + d + e"
   ]
  },
  {
   "cell_type": "code",
   "execution_count": 27,
   "id": "6c3314a6",
   "metadata": {},
   "outputs": [
    {
     "data": {
      "text/plain": [
       "'stephen stephen stephen stephen stephen stephen stephen stephen stephen stephen stephen stephen stephen stephen stephen stephen stephen stephen stephen stephen stephen stephen stephen stephen stephen stephen stephen stephen stephen stephen stephen stephen stephen stephen stephen stephen stephen stephen stephen stephen stephen stephen stephen stephen stephen stephen stephen stephen stephen stephen stephen stephen stephen stephen stephen stephen stephen stephen stephen stephen stephen stephen stephen stephen stephen stephen stephen stephen stephen stephen stephen stephen stephen stephen stephen stephen stephen stephen stephen stephen stephen stephen stephen stephen stephen stephen stephen stephen stephen stephen stephen stephen stephen stephen stephen stephen stephen stephen stephen stephen '"
      ]
     },
     "execution_count": 27,
     "metadata": {},
     "output_type": "execute_result"
    }
   ],
   "source": [
    "c * 100"
   ]
  },
  {
   "cell_type": "code",
   "execution_count": null,
   "id": "a4d166a8",
   "metadata": {},
   "outputs": [],
   "source": []
  }
 ],
 "metadata": {
  "kernelspec": {
   "display_name": "Python 3 (ipykernel)",
   "language": "python",
   "name": "python3"
  },
  "language_info": {
   "codemirror_mode": {
    "name": "ipython",
    "version": 3
   },
   "file_extension": ".py",
   "mimetype": "text/x-python",
   "name": "python",
   "nbconvert_exporter": "python",
   "pygments_lexer": "ipython3",
   "version": "3.11.4"
  }
 },
 "nbformat": 4,
 "nbformat_minor": 5
}
